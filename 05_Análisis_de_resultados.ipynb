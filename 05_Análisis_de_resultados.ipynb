{
  "nbformat": 4,
  "nbformat_minor": 0,
  "metadata": {
    "colab": {
      "provenance": []
    },
    "kernelspec": {
      "name": "python3",
      "display_name": "Python 3"
    },
    "language_info": {
      "name": "python"
    }
  },
  "cells": [
    {
      "cell_type": "markdown",
      "source": [
        "# **Análisis de resultados**"
      ],
      "metadata": {
        "id": "kU9AfivIhAZG"
      }
    },
    {
      "cell_type": "code",
      "execution_count": null,
      "metadata": {
        "id": "k_ZzD3gQ2JTg"
      },
      "outputs": [],
      "source": [
        "import pandas as pd\n",
        "import numpy as np\n",
        "from matplotlib import pyplot as plt\n",
        "\n",
        "from sklearn.metrics import accuracy_score, precision_score, recall_score, f1_score, roc_auc_score, roc_curve, auc\n",
        "from sklearn.model_selection import train_test_split\n",
        "\n",
        "import urllib.request\n",
        "import pickle"
      ]
    },
    {
      "cell_type": "code",
      "source": [
        "import warnings\n",
        "warnings.filterwarnings('ignore')"
      ],
      "metadata": {
        "id": "iqUhi3m8AOAP"
      },
      "execution_count": null,
      "outputs": []
    },
    {
      "cell_type": "code",
      "source": [
        "RANDOM_STATE = 10"
      ],
      "metadata": {
        "id": "9mbyhYle-pf4"
      },
      "execution_count": null,
      "outputs": []
    },
    {
      "cell_type": "markdown",
      "source": [
        "## **Carga de datos preprocesados**"
      ],
      "metadata": {
        "id": "TeVAW4KSiCTK"
      }
    },
    {
      "cell_type": "code",
      "source": [
        "X = pickle.loads(\n",
        "        urllib.request.urlopen(\"https://github.com/daniel-lujan/ModelosII/raw/main/preprocessed-data/final/train-preprocessed.p\").read()\n",
        "    )\n",
        "y = pickle.loads(\n",
        "        urllib.request.urlopen(\"https://github.com/daniel-lujan/ModelosII/raw/main/preprocessed-data/final/test-preprocessed.p\").read()\n",
        "    )"
      ],
      "metadata": {
        "id": "CQFmaeihisG9"
      },
      "execution_count": null,
      "outputs": []
    },
    {
      "cell_type": "markdown",
      "source": [
        "## **Carga de resultados de los modelos**"
      ],
      "metadata": {
        "id": "ZMlqpkZTisj_"
      }
    },
    {
      "cell_type": "code",
      "execution_count": null,
      "metadata": {
        "id": "Q4lIOiJR9sIi"
      },
      "outputs": [],
      "source": [
        "reg_pred = pickle.loads(\n",
        "        urllib.request.urlopen(\"https://github.com/daniel-lujan/ModelosII/raw/main/model_results/regression/pred.p\").read()\n",
        "    )\n",
        "reg_pred_proba = pickle.loads(\n",
        "        urllib.request.urlopen(\"https://github.com/daniel-lujan/ModelosII/raw/main/model_results/regression/pred-proba.p\").read()\n",
        "    )"
      ]
    },
    {
      "cell_type": "code",
      "execution_count": null,
      "metadata": {
        "id": "7yiKEzOooQRc"
      },
      "outputs": [],
      "source": [
        "trees_pred = pickle.loads(\n",
        "        urllib.request.urlopen(\"https://github.com/daniel-lujan/ModelosII/raw/main/model_results/trees/pred.p\").read()\n",
        "    )\n",
        "trees_pred_proba = pickle.loads(\n",
        "        urllib.request.urlopen(\"https://github.com/daniel-lujan/ModelosII/raw/main/model_results/trees/pred-proba.p\").read()\n",
        "    )"
      ]
    },
    {
      "cell_type": "code",
      "execution_count": null,
      "metadata": {
        "id": "wD00B0J_oWIf"
      },
      "outputs": [],
      "source": [
        "kmeans_pred_train = pickle.loads(\n",
        "        urllib.request.urlopen(\"https://github.com/daniel-lujan/ModelosII/raw/main/model_results/kmeans/pred-train.p\").read()\n",
        "    )\n",
        "kmeans_pred_test = pickle.loads(\n",
        "        urllib.request.urlopen(\"https://github.com/daniel-lujan/ModelosII/raw/main/model_results/kmeans/pred-test.p\").read()\n",
        "    )"
      ]
    },
    {
      "cell_type": "markdown",
      "source": [
        "## **Data split**"
      ],
      "metadata": {
        "id": "HeVsaDe43gEC"
      }
    },
    {
      "cell_type": "code",
      "source": [
        "X_train, X_test, y_train, y_test = train_test_split(X, y, test_size=0.2, random_state=RANDOM_STATE)"
      ],
      "metadata": {
        "id": "E_ymnamU3wva"
      },
      "execution_count": null,
      "outputs": []
    },
    {
      "cell_type": "markdown",
      "source": [
        "## **Comparando resultados**"
      ],
      "metadata": {
        "id": "ou1tXio_par7"
      }
    },
    {
      "cell_type": "code",
      "source": [
        "def compute_metrics(y_true, y_pred, y_pred_proba = None):\n",
        "    accuracy = accuracy_score(y_true, y_pred)\n",
        "    precision = precision_score(y_true, y_pred)\n",
        "    recall = recall_score(y_true, y_pred)\n",
        "    f1 = f1_score(y_true, y_pred)\n",
        "\n",
        "    if y_pred_proba is not None:\n",
        "        return accuracy, precision, recall, f1, roc_auc_score(y_true, y_pred_proba)\n",
        "    else:\n",
        "        return accuracy, precision, recall, f1, np.NaN"
      ],
      "metadata": {
        "id": "Nr8EOjTUpdNV"
      },
      "execution_count": null,
      "outputs": []
    },
    {
      "cell_type": "code",
      "source": [
        "model_names = [\"LogisticRegression\", \"RandomForestClassifier\", \"KMeans\"]\n",
        "y_pred_list = [reg_pred, trees_pred, kmeans_pred_train]\n",
        "y_pred_proba_list = [reg_pred_proba, trees_pred_proba, None]\n",
        "\n",
        "metrics_df = pd.DataFrame(columns=['Model', 'Accuracy', 'Precision', 'Recall', 'F1 Score', \"ROC AUC\"])\n",
        "\n",
        "for model_name, y_pred, y_pred_proba in zip(model_names, y_pred_list, y_pred_proba_list):\n",
        "    accuracy, precision, recall, f1, roc = compute_metrics(y_test, y_pred, y_pred_proba)\n",
        "\n",
        "    metrics_df.loc[len(metrics_df), metrics_df.columns] = model_name, accuracy, precision, recall, f1, roc\n",
        "\n",
        "metrics_df = metrics_df.set_index(\"Model\")\n",
        "metrics_df"
      ],
      "metadata": {
        "colab": {
          "base_uri": "https://localhost:8080/",
          "height": 175
        },
        "id": "oXR5ppjZpjXm",
        "outputId": "e676fdf2-f222-41d0-ae9a-624b88e4ae2b"
      },
      "execution_count": null,
      "outputs": [
        {
          "output_type": "execute_result",
          "data": {
            "text/plain": [
              "                        Accuracy Precision    Recall  F1 Score   ROC AUC\n",
              "Model                                                                   \n",
              "LogisticRegression      0.614332  0.648352  0.522785  0.578837  0.671622\n",
              "RandomForestClassifier  0.825027  0.802888  0.867932  0.834144  0.912173\n",
              "KMeans                  0.511658  0.512701  0.740928   0.60604       NaN"
            ],
            "text/html": [
              "\n",
              "  <div id=\"df-4ad82333-a7f5-4429-aa9a-8e3e7595a67c\" class=\"colab-df-container\">\n",
              "    <div>\n",
              "<style scoped>\n",
              "    .dataframe tbody tr th:only-of-type {\n",
              "        vertical-align: middle;\n",
              "    }\n",
              "\n",
              "    .dataframe tbody tr th {\n",
              "        vertical-align: top;\n",
              "    }\n",
              "\n",
              "    .dataframe thead th {\n",
              "        text-align: right;\n",
              "    }\n",
              "</style>\n",
              "<table border=\"1\" class=\"dataframe\">\n",
              "  <thead>\n",
              "    <tr style=\"text-align: right;\">\n",
              "      <th></th>\n",
              "      <th>Accuracy</th>\n",
              "      <th>Precision</th>\n",
              "      <th>Recall</th>\n",
              "      <th>F1 Score</th>\n",
              "      <th>ROC AUC</th>\n",
              "    </tr>\n",
              "    <tr>\n",
              "      <th>Model</th>\n",
              "      <th></th>\n",
              "      <th></th>\n",
              "      <th></th>\n",
              "      <th></th>\n",
              "      <th></th>\n",
              "    </tr>\n",
              "  </thead>\n",
              "  <tbody>\n",
              "    <tr>\n",
              "      <th>LogisticRegression</th>\n",
              "      <td>0.614332</td>\n",
              "      <td>0.648352</td>\n",
              "      <td>0.522785</td>\n",
              "      <td>0.578837</td>\n",
              "      <td>0.671622</td>\n",
              "    </tr>\n",
              "    <tr>\n",
              "      <th>RandomForestClassifier</th>\n",
              "      <td>0.825027</td>\n",
              "      <td>0.802888</td>\n",
              "      <td>0.867932</td>\n",
              "      <td>0.834144</td>\n",
              "      <td>0.912173</td>\n",
              "    </tr>\n",
              "    <tr>\n",
              "      <th>KMeans</th>\n",
              "      <td>0.511658</td>\n",
              "      <td>0.512701</td>\n",
              "      <td>0.740928</td>\n",
              "      <td>0.60604</td>\n",
              "      <td>NaN</td>\n",
              "    </tr>\n",
              "  </tbody>\n",
              "</table>\n",
              "</div>\n",
              "    <div class=\"colab-df-buttons\">\n",
              "\n",
              "  <div class=\"colab-df-container\">\n",
              "    <button class=\"colab-df-convert\" onclick=\"convertToInteractive('df-4ad82333-a7f5-4429-aa9a-8e3e7595a67c')\"\n",
              "            title=\"Convert this dataframe to an interactive table.\"\n",
              "            style=\"display:none;\">\n",
              "\n",
              "  <svg xmlns=\"http://www.w3.org/2000/svg\" height=\"24px\" viewBox=\"0 -960 960 960\">\n",
              "    <path d=\"M120-120v-720h720v720H120Zm60-500h600v-160H180v160Zm220 220h160v-160H400v160Zm0 220h160v-160H400v160ZM180-400h160v-160H180v160Zm440 0h160v-160H620v160ZM180-180h160v-160H180v160Zm440 0h160v-160H620v160Z\"/>\n",
              "  </svg>\n",
              "    </button>\n",
              "\n",
              "  <style>\n",
              "    .colab-df-container {\n",
              "      display:flex;\n",
              "      gap: 12px;\n",
              "    }\n",
              "\n",
              "    .colab-df-convert {\n",
              "      background-color: #E8F0FE;\n",
              "      border: none;\n",
              "      border-radius: 50%;\n",
              "      cursor: pointer;\n",
              "      display: none;\n",
              "      fill: #1967D2;\n",
              "      height: 32px;\n",
              "      padding: 0 0 0 0;\n",
              "      width: 32px;\n",
              "    }\n",
              "\n",
              "    .colab-df-convert:hover {\n",
              "      background-color: #E2EBFA;\n",
              "      box-shadow: 0px 1px 2px rgba(60, 64, 67, 0.3), 0px 1px 3px 1px rgba(60, 64, 67, 0.15);\n",
              "      fill: #174EA6;\n",
              "    }\n",
              "\n",
              "    .colab-df-buttons div {\n",
              "      margin-bottom: 4px;\n",
              "    }\n",
              "\n",
              "    [theme=dark] .colab-df-convert {\n",
              "      background-color: #3B4455;\n",
              "      fill: #D2E3FC;\n",
              "    }\n",
              "\n",
              "    [theme=dark] .colab-df-convert:hover {\n",
              "      background-color: #434B5C;\n",
              "      box-shadow: 0px 1px 3px 1px rgba(0, 0, 0, 0.15);\n",
              "      filter: drop-shadow(0px 1px 2px rgba(0, 0, 0, 0.3));\n",
              "      fill: #FFFFFF;\n",
              "    }\n",
              "  </style>\n",
              "\n",
              "    <script>\n",
              "      const buttonEl =\n",
              "        document.querySelector('#df-4ad82333-a7f5-4429-aa9a-8e3e7595a67c button.colab-df-convert');\n",
              "      buttonEl.style.display =\n",
              "        google.colab.kernel.accessAllowed ? 'block' : 'none';\n",
              "\n",
              "      async function convertToInteractive(key) {\n",
              "        const element = document.querySelector('#df-4ad82333-a7f5-4429-aa9a-8e3e7595a67c');\n",
              "        const dataTable =\n",
              "          await google.colab.kernel.invokeFunction('convertToInteractive',\n",
              "                                                    [key], {});\n",
              "        if (!dataTable) return;\n",
              "\n",
              "        const docLinkHtml = 'Like what you see? Visit the ' +\n",
              "          '<a target=\"_blank\" href=https://colab.research.google.com/notebooks/data_table.ipynb>data table notebook</a>'\n",
              "          + ' to learn more about interactive tables.';\n",
              "        element.innerHTML = '';\n",
              "        dataTable['output_type'] = 'display_data';\n",
              "        await google.colab.output.renderOutput(dataTable, element);\n",
              "        const docLink = document.createElement('div');\n",
              "        docLink.innerHTML = docLinkHtml;\n",
              "        element.appendChild(docLink);\n",
              "      }\n",
              "    </script>\n",
              "  </div>\n",
              "\n",
              "\n",
              "<div id=\"df-d2af8cc5-eeb6-4ae6-9a07-649726b944ac\">\n",
              "  <button class=\"colab-df-quickchart\" onclick=\"quickchart('df-d2af8cc5-eeb6-4ae6-9a07-649726b944ac')\"\n",
              "            title=\"Suggest charts\"\n",
              "            style=\"display:none;\">\n",
              "\n",
              "<svg xmlns=\"http://www.w3.org/2000/svg\" height=\"24px\"viewBox=\"0 0 24 24\"\n",
              "     width=\"24px\">\n",
              "    <g>\n",
              "        <path d=\"M19 3H5c-1.1 0-2 .9-2 2v14c0 1.1.9 2 2 2h14c1.1 0 2-.9 2-2V5c0-1.1-.9-2-2-2zM9 17H7v-7h2v7zm4 0h-2V7h2v10zm4 0h-2v-4h2v4z\"/>\n",
              "    </g>\n",
              "</svg>\n",
              "  </button>\n",
              "\n",
              "<style>\n",
              "  .colab-df-quickchart {\n",
              "      --bg-color: #E8F0FE;\n",
              "      --fill-color: #1967D2;\n",
              "      --hover-bg-color: #E2EBFA;\n",
              "      --hover-fill-color: #174EA6;\n",
              "      --disabled-fill-color: #AAA;\n",
              "      --disabled-bg-color: #DDD;\n",
              "  }\n",
              "\n",
              "  [theme=dark] .colab-df-quickchart {\n",
              "      --bg-color: #3B4455;\n",
              "      --fill-color: #D2E3FC;\n",
              "      --hover-bg-color: #434B5C;\n",
              "      --hover-fill-color: #FFFFFF;\n",
              "      --disabled-bg-color: #3B4455;\n",
              "      --disabled-fill-color: #666;\n",
              "  }\n",
              "\n",
              "  .colab-df-quickchart {\n",
              "    background-color: var(--bg-color);\n",
              "    border: none;\n",
              "    border-radius: 50%;\n",
              "    cursor: pointer;\n",
              "    display: none;\n",
              "    fill: var(--fill-color);\n",
              "    height: 32px;\n",
              "    padding: 0;\n",
              "    width: 32px;\n",
              "  }\n",
              "\n",
              "  .colab-df-quickchart:hover {\n",
              "    background-color: var(--hover-bg-color);\n",
              "    box-shadow: 0 1px 2px rgba(60, 64, 67, 0.3), 0 1px 3px 1px rgba(60, 64, 67, 0.15);\n",
              "    fill: var(--button-hover-fill-color);\n",
              "  }\n",
              "\n",
              "  .colab-df-quickchart-complete:disabled,\n",
              "  .colab-df-quickchart-complete:disabled:hover {\n",
              "    background-color: var(--disabled-bg-color);\n",
              "    fill: var(--disabled-fill-color);\n",
              "    box-shadow: none;\n",
              "  }\n",
              "\n",
              "  .colab-df-spinner {\n",
              "    border: 2px solid var(--fill-color);\n",
              "    border-color: transparent;\n",
              "    border-bottom-color: var(--fill-color);\n",
              "    animation:\n",
              "      spin 1s steps(1) infinite;\n",
              "  }\n",
              "\n",
              "  @keyframes spin {\n",
              "    0% {\n",
              "      border-color: transparent;\n",
              "      border-bottom-color: var(--fill-color);\n",
              "      border-left-color: var(--fill-color);\n",
              "    }\n",
              "    20% {\n",
              "      border-color: transparent;\n",
              "      border-left-color: var(--fill-color);\n",
              "      border-top-color: var(--fill-color);\n",
              "    }\n",
              "    30% {\n",
              "      border-color: transparent;\n",
              "      border-left-color: var(--fill-color);\n",
              "      border-top-color: var(--fill-color);\n",
              "      border-right-color: var(--fill-color);\n",
              "    }\n",
              "    40% {\n",
              "      border-color: transparent;\n",
              "      border-right-color: var(--fill-color);\n",
              "      border-top-color: var(--fill-color);\n",
              "    }\n",
              "    60% {\n",
              "      border-color: transparent;\n",
              "      border-right-color: var(--fill-color);\n",
              "    }\n",
              "    80% {\n",
              "      border-color: transparent;\n",
              "      border-right-color: var(--fill-color);\n",
              "      border-bottom-color: var(--fill-color);\n",
              "    }\n",
              "    90% {\n",
              "      border-color: transparent;\n",
              "      border-bottom-color: var(--fill-color);\n",
              "    }\n",
              "  }\n",
              "</style>\n",
              "\n",
              "  <script>\n",
              "    async function quickchart(key) {\n",
              "      const quickchartButtonEl =\n",
              "        document.querySelector('#' + key + ' button');\n",
              "      quickchartButtonEl.disabled = true;  // To prevent multiple clicks.\n",
              "      quickchartButtonEl.classList.add('colab-df-spinner');\n",
              "      try {\n",
              "        const charts = await google.colab.kernel.invokeFunction(\n",
              "            'suggestCharts', [key], {});\n",
              "      } catch (error) {\n",
              "        console.error('Error during call to suggestCharts:', error);\n",
              "      }\n",
              "      quickchartButtonEl.classList.remove('colab-df-spinner');\n",
              "      quickchartButtonEl.classList.add('colab-df-quickchart-complete');\n",
              "    }\n",
              "    (() => {\n",
              "      let quickchartButtonEl =\n",
              "        document.querySelector('#df-d2af8cc5-eeb6-4ae6-9a07-649726b944ac button');\n",
              "      quickchartButtonEl.style.display =\n",
              "        google.colab.kernel.accessAllowed ? 'block' : 'none';\n",
              "    })();\n",
              "  </script>\n",
              "</div>\n",
              "    </div>\n",
              "  </div>\n"
            ],
            "application/vnd.google.colaboratory.intrinsic+json": {
              "type": "dataframe",
              "variable_name": "metrics_df",
              "summary": "{\n  \"name\": \"metrics_df\",\n  \"rows\": 3,\n  \"fields\": [\n    {\n      \"column\": \"Model\",\n      \"properties\": {\n        \"dtype\": \"string\",\n        \"num_unique_values\": 3,\n        \"samples\": [\n          \"LogisticRegression\",\n          \"RandomForestClassifier\",\n          \"KMeans\"\n        ],\n        \"semantic_type\": \"\",\n        \"description\": \"\"\n      }\n    },\n    {\n      \"column\": \"Accuracy\",\n      \"properties\": {\n        \"dtype\": \"date\",\n        \"min\": 0.5116577540106952,\n        \"max\": 0.8250267379679145,\n        \"num_unique_values\": 3,\n        \"samples\": [\n          0.6143315508021391,\n          0.8250267379679145,\n          0.5116577540106952\n        ],\n        \"semantic_type\": \"\",\n        \"description\": \"\"\n      }\n    },\n    {\n      \"column\": \"Precision\",\n      \"properties\": {\n        \"dtype\": \"date\",\n        \"min\": 0.5127007299270073,\n        \"max\": 0.802888368462139,\n        \"num_unique_values\": 3,\n        \"samples\": [\n          0.6483516483516484,\n          0.802888368462139,\n          0.5127007299270073\n        ],\n        \"semantic_type\": \"\",\n        \"description\": \"\"\n      }\n    },\n    {\n      \"column\": \"Recall\",\n      \"properties\": {\n        \"dtype\": \"date\",\n        \"min\": 0.5227848101265823,\n        \"max\": 0.8679324894514768,\n        \"num_unique_values\": 3,\n        \"samples\": [\n          0.5227848101265823,\n          0.8679324894514768,\n          0.7409282700421941\n        ],\n        \"semantic_type\": \"\",\n        \"description\": \"\"\n      }\n    },\n    {\n      \"column\": \"F1 Score\",\n      \"properties\": {\n        \"dtype\": \"date\",\n        \"min\": 0.5788367203924317,\n        \"max\": 0.8341443633414438,\n        \"num_unique_values\": 3,\n        \"samples\": [\n          0.5788367203924317,\n          0.8341443633414438,\n          0.6060396893874029\n        ],\n        \"semantic_type\": \"\",\n        \"description\": \"\"\n      }\n    },\n    {\n      \"column\": \"ROC AUC\",\n      \"properties\": {\n        \"dtype\": \"date\",\n        \"min\": 0.6716224132092222,\n        \"max\": 0.9121734991808306,\n        \"num_unique_values\": 2,\n        \"samples\": [\n          0.9121734991808306,\n          0.6716224132092222\n        ],\n        \"semantic_type\": \"\",\n        \"description\": \"\"\n      }\n    }\n  ]\n}"
            }
          },
          "metadata": {},
          "execution_count": 11
        }
      ]
    },
    {
      "cell_type": "markdown",
      "source": [
        "## **Curvas ROC**"
      ],
      "metadata": {
        "id": "36G05RlY2-st"
      }
    },
    {
      "cell_type": "code",
      "source": [
        "from sklearn.metrics import roc_curve, auc\n",
        "\n",
        "fpr, tpr, thresholds = roc_curve(y_test, trees_pred_proba)\n",
        "roc_auc = auc(fpr, tpr)\n",
        "\n",
        "plt.plot(fpr, tpr, color='darkorange', lw=2, label='RandomForest (area = %0.2f)' % roc_auc)\n",
        "plt.fill_between(fpr, tpr, color='papayawhip', alpha=0.3)\n",
        "\n",
        "fpr, tpr, thresholds = roc_curve(y_test, reg_pred_proba)\n",
        "roc_auc = auc(fpr, tpr)\n",
        "\n",
        "plt.plot(fpr, tpr, color='indigo', lw=2, label='LogisticRegression (area = %0.2f)' % roc_auc)\n",
        "plt.fill_between(fpr, tpr, color='thistle', alpha=0.3)\n",
        "\n",
        "plt.plot([0, 1], [0, 1], color='red', lw=2, linestyle='--')\n",
        "plt.xlim([0.0, 1.0])\n",
        "plt.ylim([0.0, 1.05])\n",
        "plt.xlabel('Tasa de Falsos Positivos')\n",
        "plt.ylabel('Tasa de Verdaderos Positivos')\n",
        "plt.title('Curva ROC')\n",
        "plt.legend(loc=\"lower right\")\n",
        "plt.show()"
      ],
      "metadata": {
        "colab": {
          "base_uri": "https://localhost:8080/",
          "height": 472
        },
        "id": "W4YQuD_33Dr1",
        "outputId": "77abaff9-55bb-42b3-bc40-9dbf3844e9fa"
      },
      "execution_count": null,
      "outputs": [
        {
          "output_type": "display_data",
          "data": {
            "text/plain": [
              "<Figure size 640x480 with 1 Axes>"
            ],
            "image/png": "[encoded data removed]"
          },
          "metadata": {}
        }
      ]
    }
  ]
}