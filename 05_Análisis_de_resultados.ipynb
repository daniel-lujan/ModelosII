{
  "cells": [
    {
      "cell_type": "markdown",
      "metadata": {
        "id": "kU9AfivIhAZG"
      },
      "source": [
        "# **Análisis de resultados**"
      ]
    },
    {
      "cell_type": "code",
      "execution_count": 14,
      "metadata": {
        "id": "k_ZzD3gQ2JTg"
      },
      "outputs": [],
      "source": [
        "import pandas as pd\n",
        "import numpy as np\n",
        "from matplotlib import pyplot as plt\n",
        "import seaborn as sns\n",
        "\n",
        "from sklearn.metrics import accuracy_score, precision_score, recall_score, f1_score, roc_auc_score, roc_curve, auc\n",
        "from sklearn.model_selection import train_test_split\n",
        "\n",
        "import urllib.request\n",
        "import pickle"
      ]
    },
    {
      "cell_type": "code",
      "execution_count": 15,
      "metadata": {},
      "outputs": [],
      "source": [
        "plt.rcParams['figure.facecolor'] = '#EEF4F3'\n",
        "plt.rcParams['axes.facecolor'] = '#EEF4F3'\n",
        "sns.set_theme()\n"
      ]
    },
    {
      "cell_type": "code",
      "execution_count": 3,
      "metadata": {
        "id": "iqUhi3m8AOAP"
      },
      "outputs": [],
      "source": [
        "import warnings\n",
        "warnings.filterwarnings('ignore')"
      ]
    },
    {
      "cell_type": "code",
      "execution_count": 4,
      "metadata": {
        "id": "9mbyhYle-pf4"
      },
      "outputs": [],
      "source": [
        "RANDOM_STATE = 10"
      ]
    },
    {
      "cell_type": "markdown",
      "metadata": {
        "id": "TeVAW4KSiCTK"
      },
      "source": [
        "## **Carga de datos preprocesados**"
      ]
    },
    {
      "cell_type": "code",
      "execution_count": 5,
      "metadata": {
        "id": "CQFmaeihisG9"
      },
      "outputs": [],
      "source": [
        "X = pickle.loads(\n",
        "        urllib.request.urlopen(\"https://github.com/daniel-lujan/ModelosII/raw/main/preprocessed-data/final/X-preprocessed.p\").read()\n",
        "    )\n",
        "y = pickle.loads(\n",
        "        urllib.request.urlopen(\"https://github.com/daniel-lujan/ModelosII/raw/main/preprocessed-data/final/y-preprocessed.p\").read()\n",
        "    )"
      ]
    },
    {
      "cell_type": "markdown",
      "metadata": {
        "id": "ZMlqpkZTisj_"
      },
      "source": [
        "## **Carga de resultados de los modelos**"
      ]
    },
    {
      "cell_type": "code",
      "execution_count": 6,
      "metadata": {
        "id": "Q4lIOiJR9sIi"
      },
      "outputs": [],
      "source": [
        "reg_pred = pickle.loads(\n",
        "        urllib.request.urlopen(\"https://github.com/daniel-lujan/ModelosII/raw/main/model_results/regression/pred.p\").read()\n",
        "    )\n",
        "reg_pred_proba = pickle.loads(\n",
        "        urllib.request.urlopen(\"https://github.com/daniel-lujan/ModelosII/raw/main/model_results/regression/pred-proba.p\").read()\n",
        "    )"
      ]
    },
    {
      "cell_type": "code",
      "execution_count": 7,
      "metadata": {
        "id": "7yiKEzOooQRc"
      },
      "outputs": [],
      "source": [
        "trees_pred = pickle.loads(\n",
        "        urllib.request.urlopen(\"https://github.com/daniel-lujan/ModelosII/raw/main/model_results/trees/pred.p\").read()\n",
        "    )\n",
        "trees_pred_proba = pickle.loads(\n",
        "        urllib.request.urlopen(\"https://github.com/daniel-lujan/ModelosII/raw/main/model_results/trees/pred-proba.p\").read()\n",
        "    )"
      ]
    },
    {
      "cell_type": "code",
      "execution_count": 8,
      "metadata": {
        "id": "wD00B0J_oWIf"
      },
      "outputs": [],
      "source": [
        "kmeans_pred_train = pickle.loads(\n",
        "        urllib.request.urlopen(\"https://github.com/daniel-lujan/ModelosII/raw/main/model_results/kmeans/pred-train.p\").read()\n",
        "    )\n",
        "kmeans_pred_test = pickle.loads(\n",
        "        urllib.request.urlopen(\"https://github.com/daniel-lujan/ModelosII/raw/main/model_results/kmeans/pred-test.p\").read()\n",
        "    )"
      ]
    },
    {
      "cell_type": "code",
      "execution_count": 9,
      "metadata": {},
      "outputs": [],
      "source": [
        "net_pred = pickle.loads(\n",
        "        urllib.request.urlopen(\"https://github.com/daniel-lujan/ModelosII/raw/main/model_results/neural_network/pred.p\").read()\n",
        "    )\n",
        "net_pred_proba = pickle.loads(\n",
        "        urllib.request.urlopen(\"https://github.com/daniel-lujan/ModelosII/raw/main/model_results/neural_network/pred-proba.p\").read()\n",
        "    )"
      ]
    },
    {
      "cell_type": "markdown",
      "metadata": {
        "id": "HeVsaDe43gEC"
      },
      "source": [
        "## **Data split**"
      ]
    },
    {
      "cell_type": "code",
      "execution_count": 10,
      "metadata": {
        "id": "E_ymnamU3wva"
      },
      "outputs": [],
      "source": [
        "X_train, X_test, y_train, y_test = train_test_split(X, y, test_size=0.2, random_state=RANDOM_STATE)"
      ]
    },
    {
      "cell_type": "markdown",
      "metadata": {
        "id": "ou1tXio_par7"
      },
      "source": [
        "## **Comparando resultados**"
      ]
    },
    {
      "cell_type": "code",
      "execution_count": 11,
      "metadata": {
        "id": "Nr8EOjTUpdNV"
      },
      "outputs": [],
      "source": [
        "def compute_metrics(y_true, y_pred, y_pred_proba = None):\n",
        "    accuracy = accuracy_score(y_true, y_pred)\n",
        "    precision = precision_score(y_true, y_pred)\n",
        "    recall = recall_score(y_true, y_pred)\n",
        "    f1 = f1_score(y_true, y_pred)\n",
        "\n",
        "    if y_pred_proba is not None:\n",
        "        return accuracy, precision, recall, f1, roc_auc_score(y_true, y_pred_proba)\n",
        "    else:\n",
        "        return accuracy, precision, recall, f1, np.NaN"
      ]
    },
    {
      "cell_type": "code",
      "execution_count": 12,
      "metadata": {
        "colab": {
          "base_uri": "https://localhost:8080/",
          "height": 175
        },
        "id": "oXR5ppjZpjXm",
        "outputId": "e676fdf2-f222-41d0-ae9a-624b88e4ae2b"
      },
      "outputs": [
        {
          "data": {
            "text/html": [
              "<div>\n",
              "<style scoped>\n",
              "    .dataframe tbody tr th:only-of-type {\n",
              "        vertical-align: middle;\n",
              "    }\n",
              "\n",
              "    .dataframe tbody tr th {\n",
              "        vertical-align: top;\n",
              "    }\n",
              "\n",
              "    .dataframe thead th {\n",
              "        text-align: right;\n",
              "    }\n",
              "</style>\n",
              "<table border=\"1\" class=\"dataframe\">\n",
              "  <thead>\n",
              "    <tr style=\"text-align: right;\">\n",
              "      <th></th>\n",
              "      <th>Accuracy</th>\n",
              "      <th>Precision</th>\n",
              "      <th>Recall</th>\n",
              "      <th>F1 Score</th>\n",
              "      <th>ROC AUC</th>\n",
              "    </tr>\n",
              "    <tr>\n",
              "      <th>Model</th>\n",
              "      <th></th>\n",
              "      <th></th>\n",
              "      <th></th>\n",
              "      <th></th>\n",
              "      <th></th>\n",
              "    </tr>\n",
              "  </thead>\n",
              "  <tbody>\n",
              "    <tr>\n",
              "      <th>LogisticRegression</th>\n",
              "      <td>0.79123</td>\n",
              "      <td>0.781048</td>\n",
              "      <td>0.8173</td>\n",
              "      <td>0.798763</td>\n",
              "      <td>0.880353</td>\n",
              "    </tr>\n",
              "    <tr>\n",
              "      <th>RandomForestClassifier</th>\n",
              "      <td>0.826524</td>\n",
              "      <td>0.804136</td>\n",
              "      <td>0.86962</td>\n",
              "      <td>0.835597</td>\n",
              "      <td>0.911232</td>\n",
              "    </tr>\n",
              "    <tr>\n",
              "      <th>KMeans</th>\n",
              "      <td>0.511658</td>\n",
              "      <td>0.512701</td>\n",
              "      <td>0.740928</td>\n",
              "      <td>0.60604</td>\n",
              "      <td>NaN</td>\n",
              "    </tr>\n",
              "    <tr>\n",
              "      <th>Neural Network</th>\n",
              "      <td>0.817326</td>\n",
              "      <td>0.795171</td>\n",
              "      <td>0.861603</td>\n",
              "      <td>0.827055</td>\n",
              "      <td>0.898718</td>\n",
              "    </tr>\n",
              "  </tbody>\n",
              "</table>\n",
              "</div>"
            ],
            "text/plain": [
              "                        Accuracy Precision    Recall  F1 Score   ROC AUC\n",
              "Model                                                                   \n",
              "LogisticRegression       0.79123  0.781048    0.8173  0.798763  0.880353\n",
              "RandomForestClassifier  0.826524  0.804136   0.86962  0.835597  0.911232\n",
              "KMeans                  0.511658  0.512701  0.740928   0.60604       NaN\n",
              "Neural Network          0.817326  0.795171  0.861603  0.827055  0.898718"
            ]
          },
          "execution_count": 12,
          "metadata": {},
          "output_type": "execute_result"
        }
      ],
      "source": [
        "model_names = [\"LogisticRegression\", \"RandomForestClassifier\", \"KMeans\", \"Neural Network\"]\n",
        "y_pred_list = [reg_pred, trees_pred, kmeans_pred_train, net_pred]\n",
        "y_pred_proba_list = [reg_pred_proba, trees_pred_proba, None, net_pred_proba]\n",
        "\n",
        "metrics_df = pd.DataFrame(columns=['Model', 'Accuracy', 'Precision', 'Recall', 'F1 Score', \"ROC AUC\"])\n",
        "\n",
        "for model_name, y_pred, y_pred_proba in zip(model_names, y_pred_list, y_pred_proba_list):\n",
        "    accuracy, precision, recall, f1, roc = compute_metrics(y_test, y_pred, y_pred_proba)\n",
        "\n",
        "    metrics_df.loc[len(metrics_df), metrics_df.columns] = model_name, accuracy, precision, recall, f1, roc\n",
        "\n",
        "metrics_df = metrics_df.set_index(\"Model\")\n",
        "metrics_df"
      ]
    },
    {
      "cell_type": "markdown",
      "metadata": {
        "id": "36G05RlY2-st"
      },
      "source": [
        "## **Curvas ROC**"
      ]
    },
    {
      "cell_type": "code",
      "execution_count": 19,
      "metadata": {
        "colab": {
          "base_uri": "https://localhost:8080/",
          "height": 472
        },
        "id": "W4YQuD_33Dr1",
        "outputId": "77abaff9-55bb-42b3-bc40-9dbf3844e9fa"
      },
      "outputs": [
        {
          "data": {
            "image/png": "[encoded data removed]",
            "text/plain": [
              "<Figure size 640x480 with 1 Axes>"
            ]
          },
          "metadata": {},
          "output_type": "display_data"
        }
      ],
      "source": [
        "fpr, tpr, thresholds = roc_curve(y_test, trees_pred_proba)\n",
        "roc_auc = auc(fpr, tpr)\n",
        "\n",
        "plt.plot(fpr, tpr, color='darkorange', lw=2, label='RandomForest (area = %0.2f)' % roc_auc)\n",
        "plt.fill_between(fpr, tpr, color='papayawhip', alpha=0.3)\n",
        "\n",
        "fpr, tpr, thresholds = roc_curve(y_test, reg_pred_proba)\n",
        "roc_auc = auc(fpr, tpr)\n",
        "\n",
        "plt.plot(fpr, tpr, color='indigo', lw=2, label='LogisticRegression (area = %0.2f)' % roc_auc)\n",
        "plt.fill_between(fpr, tpr, color='thistle', alpha=0.3)\n",
        "\n",
        "fpr, tpr, thresholds = roc_curve(y_test, net_pred_proba)\n",
        "roc_auc = auc(fpr, tpr)\n",
        "\n",
        "plt.plot(fpr, tpr, color='green', lw=2, label='Neural Network (area = %0.2f)' % roc_auc)\n",
        "plt.fill_between(fpr, tpr, color='lightgreen', alpha=0.3)\n",
        "\n",
        "plt.plot([0, 1], [0, 1], color='red', lw=2, linestyle='--')\n",
        "plt.xlim([0.0, 1.0])\n",
        "plt.ylim([0.0, 1.05])\n",
        "plt.xlabel('False Positive Rate')\n",
        "plt.ylabel('True Positive Rate')\n",
        "plt.title('ROC Curve')\n",
        "plt.legend(loc=\"lower right\")\n",
        "\n",
        "plt.savefig(\"roc_curve.png\", dpi=300)"
      ]
    }
  ],
  "metadata": {
    "colab": {
      "provenance": []
    },
    "kernelspec": {
      "display_name": "Python 3",
      "name": "python3"
    },
    "language_info": {
      "codemirror_mode": {
        "name": "ipython",
        "version": 3
      },
      "file_extension": ".py",
      "mimetype": "text/x-python",
      "name": "python",
      "nbconvert_exporter": "python",
      "pygments_lexer": "ipython3",
      "version": "3.11.4"
    }
  },
  "nbformat": 4,
  "nbformat_minor": 0
}
