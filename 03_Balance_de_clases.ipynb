{
  "nbformat": 4,
  "nbformat_minor": 0,
  "metadata": {
    "colab": {
      "provenance": []
    },
    "kernelspec": {
      "name": "python3",
      "display_name": "Python 3"
    },
    "language_info": {
      "name": "python"
    }
  },
  "cells": [
    {
      "cell_type": "markdown",
      "metadata": {
        "id": "0F_7fVGDQVVO"
      },
      "source": [
        "# **Balance de clases**"
      ]
    },
    {
      "cell_type": "markdown",
      "source": [
        "### **Carga de datos pre-tratados**"
      ],
      "metadata": {
        "id": "bMMs5jQClULV"
      }
    },
    {
      "cell_type": "code",
      "source": [
        "import pandas as pd\n",
        "import numpy as np\n",
        "from matplotlib import pyplot as plt\n",
        "\n",
        "from imblearn.pipeline import Pipeline\n",
        "from imblearn.over_sampling import SMOTE\n",
        "from imblearn.under_sampling import RandomUnderSampler\n"
      ],
      "metadata": {
        "id": "eAZHydXao9-L"
      },
      "execution_count": 3,
      "outputs": []
    },
    {
      "cell_type": "code",
      "source": [
        "import urllib.request\n",
        "import pickle\n",
        "\n",
        "x = pickle.loads(\n",
        "        urllib.request.urlopen(\"https://github.com/daniel-lujan/ModelosII/raw/main/preprocessed-data/basic/train-preprocessed.p\").read()\n",
        "    )\n",
        "y = pickle.loads(\n",
        "        urllib.request.urlopen(\"https://github.com/daniel-lujan/ModelosII/raw/main/preprocessed-data/basic/test-preprocessed.p\").read()\n",
        "    )"
      ],
      "metadata": {
        "id": "mB-VgMvnlXLc"
      },
      "execution_count": 1,
      "outputs": []
    },
    {
      "cell_type": "code",
      "execution_count": 2,
      "metadata": {
        "id": "C_H1V6UilmIA"
      },
      "outputs": [],
      "source": [
        "def muestras_por_clases (Y):\n",
        "    \"\"\"Función que calcula el número de muestras por cada clase\n",
        "    Y: vector de numpy con las etiquetas de las muestras del conjunto X\n",
        "    retorna: diccionario [int/float:int/float]\n",
        "        con la estructura:{etiquetaclase1: número de muestras clase1, etiquetaclase2: número de muestras clase2}\n",
        "    \"\"\"\n",
        "    dicto = dict(zip(np.unique(Y,return_counts=True)[0], np.unique(Y,return_counts=True)[1]))\n",
        "    return (dicto)"
      ]
    },
    {
      "cell_type": "code",
      "execution_count": 4,
      "metadata": {
        "colab": {
          "base_uri": "https://localhost:8080/",
          "height": 472
        },
        "id": "BxYN119rlmIE",
        "outputId": "4a73b1f3-66ea-4059-af9e-dbcffa277b4c"
      },
      "outputs": [
        {
          "output_type": "display_data",
          "data": {
            "text/plain": [
              "<Figure size 640x480 with 1 Axes>"
            ],
            "image/png": "[encoded data removed]"
          },
          "metadata": {}
        }
      ],
      "source": [
        "fig, ax = plt.subplots()\n",
        "ax.bar(muestras_por_clases(y).keys(), muestras_por_clases(y).values())\n",
        "ax.set_title(\"Número de muestras por clase\")\n",
        "ax.set_xlabel(\"etiqueta de la clase\")\n",
        "ax.set_ylabel(\"# muestras por clase\")\n",
        "ax.set_xticks(list(muestras_por_clases(y).keys()))\n",
        "ax.spines['top'].set_visible(False)\n",
        "ax.spines['right'].set_visible(False)\n",
        "plt.show()\n"
      ]
    },
    {
      "cell_type": "code",
      "execution_count": 5,
      "metadata": {
        "colab": {
          "base_uri": "https://localhost:8080/"
        },
        "id": "ZNT9Bm7x9IK7",
        "outputId": "f7351d4c-f657-430b-8a5d-9e154c738f8d"
      },
      "outputs": [
        {
          "output_type": "stream",
          "name": "stdout",
          "text": [
            "(37155, 11687)\n",
            "El 76.07% de los datos son de la clase mayoritaria\n"
          ]
        }
      ],
      "source": [
        "m = tuple(muestras_por_clases(y).values())\n",
        "print(m)\n",
        "print(f\"El {(m[0]* 100 / (m[0] + m[1])):.2f}% de los datos son de la clase mayoritaria\")"
      ]
    },
    {
      "cell_type": "markdown",
      "metadata": {
        "id": "KaWLsO8BQaLY"
      },
      "source": [
        "Podemos observar que existe un desbalance considerable en el número de muestras que corresponden a cada clase (el 76% de los datos corresponden a las muestras de personas cuyos ingresos no superan los 50 mil dólares anuales)."
      ]
    },
    {
      "cell_type": "markdown",
      "metadata": {
        "id": "EfFACaDKQ0Wk"
      },
      "source": [
        "A continuación, se aplicó una combinación de oversampling y undersampling con el objetivo de obtener un dataset con las clases totalmente balanceadas.\n",
        "\n",
        "Específicamente, la mitad de la diferencia entre la clase mayoritaria y la minoritaria se eliminaron, y la otra mitad fue generada artificialmente."
      ]
    },
    {
      "cell_type": "code",
      "source": [
        "y = y.astype(\"int\")"
      ],
      "metadata": {
        "id": "sYjGtLaGqGQb"
      },
      "execution_count": 11,
      "outputs": []
    },
    {
      "cell_type": "code",
      "execution_count": 12,
      "metadata": {
        "id": "tFXe2HsXOaUr"
      },
      "outputs": [],
      "source": [
        "sampling_pipeline = Pipeline([\n",
        "    ('oversample', SMOTE(sampling_strategy=0.6)),\n",
        "    ('undersample', RandomUnderSampler(sampling_strategy=1.0))\n",
        "])\n",
        "\n",
        "x, y = sampling_pipeline.fit_resample(x, y)"
      ]
    },
    {
      "cell_type": "code",
      "execution_count": 13,
      "metadata": {
        "colab": {
          "base_uri": "https://localhost:8080/",
          "height": 472
        },
        "id": "8pxZa-gZRRjh",
        "outputId": "7dd5d1eb-7c6b-45af-aa89-514b3a97aa39"
      },
      "outputs": [
        {
          "output_type": "display_data",
          "data": {
            "text/plain": [
              "<Figure size 640x480 with 1 Axes>"
            ],
            "image/png": "[encoded data removed]"
          },
          "metadata": {}
        }
      ],
      "source": [
        "fig, ax = plt.subplots()\n",
        "ax.bar(muestras_por_clases(y).keys(), muestras_por_clases(y).values())\n",
        "ax.set_title(\"Número de muestras por clase\")\n",
        "ax.set_xlabel(\"etiqueta de la clase\")\n",
        "ax.set_ylabel(\"# muestras por clase\")\n",
        "ax.set_xticks(list(muestras_por_clases(y).keys()))\n",
        "ax.spines['top'].set_visible(False)\n",
        "ax.spines['right'].set_visible(False)\n",
        "plt.show()"
      ]
    },
    {
      "cell_type": "code",
      "execution_count": 14,
      "metadata": {
        "colab": {
          "base_uri": "https://localhost:8080/"
        },
        "id": "lwciOzOlQLP3",
        "outputId": "c60610aa-0274-4814-f1bd-59dd5394db00"
      },
      "outputs": [
        {
          "output_type": "execute_result",
          "data": {
            "text/plain": [
              "dict_values([22293, 22293])"
            ]
          },
          "metadata": {},
          "execution_count": 14
        }
      ],
      "source": [
        "muestras_por_clases(y).values()"
      ]
    },
    {
      "cell_type": "code",
      "execution_count": 15,
      "metadata": {
        "colab": {
          "base_uri": "https://localhost:8080/"
        },
        "id": "ezZXzw14PkZT",
        "outputId": "a41e45b9-ad4a-4855-e9fe-676689f5ac80"
      },
      "outputs": [
        {
          "output_type": "execute_result",
          "data": {
            "text/plain": [
              "(44586, 1)"
            ]
          },
          "metadata": {},
          "execution_count": 15
        }
      ],
      "source": [
        "y.shape"
      ]
    },
    {
      "cell_type": "markdown",
      "source": [
        "## **Exportación de datos tratados**"
      ],
      "metadata": {
        "id": "yHsIPF3RvSQw"
      }
    },
    {
      "cell_type": "code",
      "source": [
        "x.to_pickle(\"./train-preprocessed.p\")\n",
        "y.to_pickle(\"./test-preprocessed.p\")"
      ],
      "metadata": {
        "id": "hMZtN53gvUtB"
      },
      "execution_count": 16,
      "outputs": []
    }
  ]
}